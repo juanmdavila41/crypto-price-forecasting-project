{
 "cells": [
  {
   "cell_type": "markdown",
   "id": "ee8fa666",
   "metadata": {},
   "source": [
    "## Install Required Packages"
   ]
  },
  {
   "cell_type": "code",
   "execution_count": 1,
   "id": "85763d5e",
   "metadata": {},
   "outputs": [
    {
     "name": "stdout",
     "output_type": "stream",
     "text": [
      "Requirement already satisfied: yfinance in c:\\users\\windows\\anaconda3\\lib\\site-packages (0.2.40)\n",
      "Requirement already satisfied: beautifulsoup4>=4.11.1 in c:\\users\\windows\\anaconda3\\lib\\site-packages (from yfinance) (4.11.1)\n",
      "Requirement already satisfied: peewee>=3.16.2 in c:\\users\\windows\\anaconda3\\lib\\site-packages (from yfinance) (3.17.5)\n",
      "Requirement already satisfied: numpy>=1.16.5 in c:\\users\\windows\\anaconda3\\lib\\site-packages (from yfinance) (1.23.5)\n",
      "Requirement already satisfied: multitasking>=0.0.7 in c:\\users\\windows\\anaconda3\\lib\\site-packages (from yfinance) (0.0.11)\n",
      "Requirement already satisfied: requests>=2.31 in c:\\users\\windows\\anaconda3\\lib\\site-packages (from yfinance) (2.32.2)\n",
      "Requirement already satisfied: frozendict>=2.3.4 in c:\\users\\windows\\anaconda3\\lib\\site-packages (from yfinance) (2.4.4)\n",
      "Requirement already satisfied: html5lib>=1.1 in c:\\users\\windows\\anaconda3\\lib\\site-packages (from yfinance) (1.1)\n",
      "Requirement already satisfied: platformdirs>=2.0.0 in c:\\users\\windows\\anaconda3\\lib\\site-packages (from yfinance) (2.5.2)\n",
      "Requirement already satisfied: pytz>=2022.5 in c:\\users\\windows\\anaconda3\\lib\\site-packages (from yfinance) (2022.7)\n",
      "Requirement already satisfied: lxml>=4.9.1 in c:\\users\\windows\\anaconda3\\lib\\site-packages (from yfinance) (4.9.1)\n",
      "Requirement already satisfied: pandas>=1.3.0 in c:\\users\\windows\\anaconda3\\lib\\site-packages (from yfinance) (1.5.3)\n",
      "Requirement already satisfied: soupsieve>1.2 in c:\\users\\windows\\anaconda3\\lib\\site-packages (from beautifulsoup4>=4.11.1->yfinance) (2.3.2.post1)\n",
      "Requirement already satisfied: six>=1.9 in c:\\users\\windows\\anaconda3\\lib\\site-packages (from html5lib>=1.1->yfinance) (1.16.0)\n",
      "Requirement already satisfied: webencodings in c:\\users\\windows\\anaconda3\\lib\\site-packages (from html5lib>=1.1->yfinance) (0.5.1)\n",
      "Requirement already satisfied: python-dateutil>=2.8.1 in c:\\users\\windows\\anaconda3\\lib\\site-packages (from pandas>=1.3.0->yfinance) (2.8.2)\n",
      "Requirement already satisfied: charset-normalizer<4,>=2 in c:\\users\\windows\\anaconda3\\lib\\site-packages (from requests>=2.31->yfinance) (2.0.4)\n",
      "Requirement already satisfied: idna<4,>=2.5 in c:\\users\\windows\\anaconda3\\lib\\site-packages (from requests>=2.31->yfinance) (3.4)\n",
      "Requirement already satisfied: urllib3<3,>=1.21.1 in c:\\users\\windows\\anaconda3\\lib\\site-packages (from requests>=2.31->yfinance) (1.26.14)\n",
      "Requirement already satisfied: certifi>=2017.4.17 in c:\\users\\windows\\anaconda3\\lib\\site-packages (from requests>=2.31->yfinance) (2023.5.7)\n"
     ]
    }
   ],
   "source": [
    "!pip install yfinance"
   ]
  },
  {
   "cell_type": "markdown",
   "id": "52789487",
   "metadata": {},
   "source": [
    "## Import Libraries"
   ]
  },
  {
   "cell_type": "code",
   "execution_count": 2,
   "id": "58c65bad",
   "metadata": {},
   "outputs": [],
   "source": [
    "import pandas as pd\n",
    "import numpy as np\n",
    "from datetime import date, timedelta, datetime\n",
    "import yfinance as yf\n",
    "from dateutil.relativedelta import relativedelta"
   ]
  },
  {
   "cell_type": "markdown",
   "id": "007bf634",
   "metadata": {},
   "source": [
    "## Define Cryptocurrency List and Date Range"
   ]
  },
  {
   "cell_type": "code",
   "execution_count": 3,
   "id": "99d4f671",
   "metadata": {},
   "outputs": [
    {
     "name": "stdout",
     "output_type": "stream",
     "text": [
      "Start Date: 2023-05-30\n",
      "End Date: 2024-05-30\n"
     ]
    }
   ],
   "source": [
    "# List of cryptocurrencies\n",
    "crypto_codes = ['BTC-USD', 'ETH-USD', 'ADA-USD']\n",
    "crypto_names = {\n",
    "    'BTC-USD': 'Bitcoin',\n",
    "    'ETH-USD': 'Ethereum',\n",
    "    'ADA-USD': 'Cardano'\n",
    "}\n",
    "\n",
    "# Define date range\n",
    "end_date = datetime.now()\n",
    "start_date = end_date - relativedelta(years=1)\n",
    "end_date = end_date.strftime('%Y-%m-%d')\n",
    "start_date = start_date.strftime('%Y-%m-%d')\n",
    "\n",
    "print(f\"Start Date: {start_date}\")\n",
    "print(f\"End Date: {end_date}\")"
   ]
  },
  {
   "cell_type": "markdown",
   "id": "e28f5a67",
   "metadata": {},
   "source": [
    "## Download Historical Data"
   ]
  },
  {
   "cell_type": "code",
   "execution_count": 4,
   "id": "5f38f76f",
   "metadata": {},
   "outputs": [
    {
     "name": "stderr",
     "output_type": "stream",
     "text": [
      "[*********************100%%**********************]  1 of 1 completed\n"
     ]
    },
    {
     "name": "stdout",
     "output_type": "stream",
     "text": [
      "Data for BTC-USD downloaded successfully.\n"
     ]
    },
    {
     "name": "stderr",
     "output_type": "stream",
     "text": [
      "[*********************100%%**********************]  1 of 1 completed\n",
      "[*********************100%%**********************]  1 of 1 completed"
     ]
    },
    {
     "name": "stdout",
     "output_type": "stream",
     "text": [
      "Data for ETH-USD downloaded successfully.\n",
      "Data for ADA-USD downloaded successfully.\n"
     ]
    },
    {
     "name": "stderr",
     "output_type": "stream",
     "text": [
      "\n"
     ]
    }
   ],
   "source": [
    "# List to store all historical data\n",
    "historic_data = []\n",
    "\n",
    "for code in crypto_codes:\n",
    "    try:\n",
    "        # Download historical data\n",
    "        crypto_data = yf.download(code, start=start_date, end=end_date)\n",
    "        # Add a column to identify the cryptocurrency\n",
    "        crypto_data['crypto_code'] = code\n",
    "        # Add the DataFrame to the list\n",
    "        historic_data.append(crypto_data)\n",
    "        print(f'Data for {code} downloaded successfully.')\n",
    "    except Exception as e:\n",
    "        print(f\"Error downloading data for {code}: {e}\")\n",
    "\n",
    "# Combine all DataFrames into a single DataFrame\n",
    "df = pd.concat(historic_data)"
   ]
  },
  {
   "cell_type": "markdown",
   "id": "9400dfb5",
   "metadata": {},
   "source": [
    "## Map Commercial Names"
   ]
  },
  {
   "cell_type": "code",
   "execution_count": 5,
   "id": "bb6faaa8",
   "metadata": {},
   "outputs": [],
   "source": [
    "df['commercial_name'] = np.where(\n",
    "    df['crypto_code'].isin(crypto_names.keys()),\n",
    "    df['crypto_code'].map(crypto_names),\n",
    "    np.nan  # Assign NaN if the symbol is not in the dictionary\n",
    ")"
   ]
  },
  {
   "cell_type": "code",
   "execution_count": 6,
   "id": "674bcc8d",
   "metadata": {
    "scrolled": true
   },
   "outputs": [
    {
     "data": {
      "text/html": [
       "<div>\n",
       "<style scoped>\n",
       "    .dataframe tbody tr th:only-of-type {\n",
       "        vertical-align: middle;\n",
       "    }\n",
       "\n",
       "    .dataframe tbody tr th {\n",
       "        vertical-align: top;\n",
       "    }\n",
       "\n",
       "    .dataframe thead th {\n",
       "        text-align: right;\n",
       "    }\n",
       "</style>\n",
       "<table border=\"1\" class=\"dataframe\">\n",
       "  <thead>\n",
       "    <tr style=\"text-align: right;\">\n",
       "      <th></th>\n",
       "      <th>Open</th>\n",
       "      <th>High</th>\n",
       "      <th>Low</th>\n",
       "      <th>Close</th>\n",
       "      <th>Adj Close</th>\n",
       "      <th>Volume</th>\n",
       "      <th>crypto_code</th>\n",
       "      <th>commercial_name</th>\n",
       "    </tr>\n",
       "    <tr>\n",
       "      <th>Date</th>\n",
       "      <th></th>\n",
       "      <th></th>\n",
       "      <th></th>\n",
       "      <th></th>\n",
       "      <th></th>\n",
       "      <th></th>\n",
       "      <th></th>\n",
       "      <th></th>\n",
       "    </tr>\n",
       "  </thead>\n",
       "  <tbody>\n",
       "    <tr>\n",
       "      <th>2023-05-30</th>\n",
       "      <td>27745.123047</td>\n",
       "      <td>28044.759766</td>\n",
       "      <td>27588.501953</td>\n",
       "      <td>27702.349609</td>\n",
       "      <td>27702.349609</td>\n",
       "      <td>13251081851</td>\n",
       "      <td>BTC-USD</td>\n",
       "      <td>Bitcoin</td>\n",
       "    </tr>\n",
       "    <tr>\n",
       "      <th>2023-05-31</th>\n",
       "      <td>27700.529297</td>\n",
       "      <td>27831.677734</td>\n",
       "      <td>26866.453125</td>\n",
       "      <td>27219.658203</td>\n",
       "      <td>27219.658203</td>\n",
       "      <td>15656371534</td>\n",
       "      <td>BTC-USD</td>\n",
       "      <td>Bitcoin</td>\n",
       "    </tr>\n",
       "    <tr>\n",
       "      <th>2023-06-01</th>\n",
       "      <td>27218.412109</td>\n",
       "      <td>27346.105469</td>\n",
       "      <td>26671.720703</td>\n",
       "      <td>26819.972656</td>\n",
       "      <td>26819.972656</td>\n",
       "      <td>14678970415</td>\n",
       "      <td>BTC-USD</td>\n",
       "      <td>Bitcoin</td>\n",
       "    </tr>\n",
       "    <tr>\n",
       "      <th>2023-06-02</th>\n",
       "      <td>26824.556641</td>\n",
       "      <td>27303.861328</td>\n",
       "      <td>26574.644531</td>\n",
       "      <td>27249.589844</td>\n",
       "      <td>27249.589844</td>\n",
       "      <td>14837415000</td>\n",
       "      <td>BTC-USD</td>\n",
       "      <td>Bitcoin</td>\n",
       "    </tr>\n",
       "    <tr>\n",
       "      <th>2023-06-03</th>\n",
       "      <td>27252.324219</td>\n",
       "      <td>27317.052734</td>\n",
       "      <td>26958.003906</td>\n",
       "      <td>27075.128906</td>\n",
       "      <td>27075.128906</td>\n",
       "      <td>8385597470</td>\n",
       "      <td>BTC-USD</td>\n",
       "      <td>Bitcoin</td>\n",
       "    </tr>\n",
       "    <tr>\n",
       "      <th>...</th>\n",
       "      <td>...</td>\n",
       "      <td>...</td>\n",
       "      <td>...</td>\n",
       "      <td>...</td>\n",
       "      <td>...</td>\n",
       "      <td>...</td>\n",
       "      <td>...</td>\n",
       "      <td>...</td>\n",
       "    </tr>\n",
       "    <tr>\n",
       "      <th>2024-05-25</th>\n",
       "      <td>0.459498</td>\n",
       "      <td>0.464271</td>\n",
       "      <td>0.458134</td>\n",
       "      <td>0.462072</td>\n",
       "      <td>0.462072</td>\n",
       "      <td>238476411</td>\n",
       "      <td>ADA-USD</td>\n",
       "      <td>Cardano</td>\n",
       "    </tr>\n",
       "    <tr>\n",
       "      <th>2024-05-26</th>\n",
       "      <td>0.462072</td>\n",
       "      <td>0.462364</td>\n",
       "      <td>0.456430</td>\n",
       "      <td>0.458375</td>\n",
       "      <td>0.458375</td>\n",
       "      <td>225636000</td>\n",
       "      <td>ADA-USD</td>\n",
       "      <td>Cardano</td>\n",
       "    </tr>\n",
       "    <tr>\n",
       "      <th>2024-05-27</th>\n",
       "      <td>0.458375</td>\n",
       "      <td>0.473999</td>\n",
       "      <td>0.457198</td>\n",
       "      <td>0.467963</td>\n",
       "      <td>0.467963</td>\n",
       "      <td>323304261</td>\n",
       "      <td>ADA-USD</td>\n",
       "      <td>Cardano</td>\n",
       "    </tr>\n",
       "    <tr>\n",
       "      <th>2024-05-28</th>\n",
       "      <td>0.467963</td>\n",
       "      <td>0.468437</td>\n",
       "      <td>0.453115</td>\n",
       "      <td>0.456990</td>\n",
       "      <td>0.456990</td>\n",
       "      <td>418594476</td>\n",
       "      <td>ADA-USD</td>\n",
       "      <td>Cardano</td>\n",
       "    </tr>\n",
       "    <tr>\n",
       "      <th>2024-05-29</th>\n",
       "      <td>0.456990</td>\n",
       "      <td>0.463107</td>\n",
       "      <td>0.450914</td>\n",
       "      <td>0.450995</td>\n",
       "      <td>0.450995</td>\n",
       "      <td>350482630</td>\n",
       "      <td>ADA-USD</td>\n",
       "      <td>Cardano</td>\n",
       "    </tr>\n",
       "  </tbody>\n",
       "</table>\n",
       "<p>1098 rows × 8 columns</p>\n",
       "</div>"
      ],
      "text/plain": [
       "                    Open          High           Low         Close  \\\n",
       "Date                                                                 \n",
       "2023-05-30  27745.123047  28044.759766  27588.501953  27702.349609   \n",
       "2023-05-31  27700.529297  27831.677734  26866.453125  27219.658203   \n",
       "2023-06-01  27218.412109  27346.105469  26671.720703  26819.972656   \n",
       "2023-06-02  26824.556641  27303.861328  26574.644531  27249.589844   \n",
       "2023-06-03  27252.324219  27317.052734  26958.003906  27075.128906   \n",
       "...                  ...           ...           ...           ...   \n",
       "2024-05-25      0.459498      0.464271      0.458134      0.462072   \n",
       "2024-05-26      0.462072      0.462364      0.456430      0.458375   \n",
       "2024-05-27      0.458375      0.473999      0.457198      0.467963   \n",
       "2024-05-28      0.467963      0.468437      0.453115      0.456990   \n",
       "2024-05-29      0.456990      0.463107      0.450914      0.450995   \n",
       "\n",
       "               Adj Close       Volume crypto_code commercial_name  \n",
       "Date                                                               \n",
       "2023-05-30  27702.349609  13251081851     BTC-USD         Bitcoin  \n",
       "2023-05-31  27219.658203  15656371534     BTC-USD         Bitcoin  \n",
       "2023-06-01  26819.972656  14678970415     BTC-USD         Bitcoin  \n",
       "2023-06-02  27249.589844  14837415000     BTC-USD         Bitcoin  \n",
       "2023-06-03  27075.128906   8385597470     BTC-USD         Bitcoin  \n",
       "...                  ...          ...         ...             ...  \n",
       "2024-05-25      0.462072    238476411     ADA-USD         Cardano  \n",
       "2024-05-26      0.458375    225636000     ADA-USD         Cardano  \n",
       "2024-05-27      0.467963    323304261     ADA-USD         Cardano  \n",
       "2024-05-28      0.456990    418594476     ADA-USD         Cardano  \n",
       "2024-05-29      0.450995    350482630     ADA-USD         Cardano  \n",
       "\n",
       "[1098 rows x 8 columns]"
      ]
     },
     "execution_count": 6,
     "metadata": {},
     "output_type": "execute_result"
    }
   ],
   "source": [
    "df"
   ]
  },
  {
   "cell_type": "markdown",
   "id": "64c282cf",
   "metadata": {},
   "source": [
    "## Save Combined Data to CSV"
   ]
  },
  {
   "cell_type": "code",
   "execution_count": 7,
   "id": "31548f58",
   "metadata": {},
   "outputs": [],
   "source": [
    "df.to_csv('data/combined_crypto_data.csv', index=True)"
   ]
  }
 ],
 "metadata": {
  "kernelspec": {
   "display_name": "Python 3 (ipykernel)",
   "language": "python",
   "name": "python3"
  },
  "language_info": {
   "codemirror_mode": {
    "name": "ipython",
    "version": 3
   },
   "file_extension": ".py",
   "mimetype": "text/x-python",
   "name": "python",
   "nbconvert_exporter": "python",
   "pygments_lexer": "ipython3",
   "version": "3.10.9"
  }
 },
 "nbformat": 4,
 "nbformat_minor": 5
}
